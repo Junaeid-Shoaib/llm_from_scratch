{
 "cells": [
  {
   "cell_type": "code",
   "execution_count": 1,
   "id": "e945bfbd",
   "metadata": {},
   "outputs": [
    {
     "name": "stdout",
     "output_type": "stream",
     "text": [
      "Number of characters 20479\n",
      "I HAD always thought Jack Gisburn rather a cheap genius--though a good fellow enough--so it was no \n"
     ]
    }
   ],
   "source": [
    "with open(\"the-verdict.txt\",\"r\", encoding = \"utf-8\") as f:\n",
    "    raw_text=f.read()\n",
    "    \n",
    "print(\"Number of characters\", len(raw_text))\n",
    "print(raw_text[:99])"
   ]
  },
  {
   "cell_type": "markdown",
   "id": "9c83bfa5",
   "metadata": {},
   "source": [
    "# Creating Tokenizer "
   ]
  },
  {
   "cell_type": "code",
   "execution_count": 2,
   "id": "76a571ba",
   "metadata": {},
   "outputs": [
    {
     "name": "stdout",
     "output_type": "stream",
     "text": [
      "['Hello', ',', '', ' ', 'world', '.', '', ' ', '', '--', 'Hi', ' ', 'I', \"'\", 'm', ' ', 'LLM', ',', '', ' ', 'Is', ' ', 'a', ' ', 'test', '?', '', ' ', 'If', ' ', 'yes', ':', '', ' ', 'I', \"'\", 'm', ' ', 'going', ' ', 'to', ' ', 'smash', ' ', 'it', '!', '']\n",
      "\n",
      " ['Hello', ',', 'world', '.', '--', 'Hi', 'I', \"'\", 'm', 'LLM', ',', 'Is', 'a', 'test', '?', 'If', 'yes', ':', 'I', \"'\", 'm', 'going', 'to', 'smash', 'it', '!']\n"
     ]
    }
   ],
   "source": [
    "import re\n",
    "text = \"Hello, world. --Hi I'm LLM, Is a test? If yes: I'm going to smash it!\"\n",
    "result = re.split(r'([,.:;?_!\"()\\']|--|\\s)', text)\n",
    "print(result)\n",
    "result =[item.strip() for item in result if item.strip()]\n",
    "print('\\n',result)"
   ]
  },
  {
   "cell_type": "code",
   "execution_count": 10,
   "id": "8c723366",
   "metadata": {},
   "outputs": [
    {
     "name": "stdout",
     "output_type": "stream",
     "text": [
      "['I', 'HAD', 'always', 'thought', 'Jack', 'Gisburn', 'rather', 'a', 'cheap', 'genius', '--', 'though', 'a', 'good', 'fellow', 'enough', '--', 'so', 'it', 'was', 'no', 'great', 'surprise', 'to', 'me', 'to', 'hear', 'that', ',', 'in', 'the', 'height', 'of', 'his', 'glory', ',', 'he', 'had', 'dropped', 'his', 'painting', ',', 'married', 'a', 'rich', 'widow', ',', 'and', 'established', 'himself']\n",
      "\n",
      " 4690\n"
     ]
    }
   ],
   "source": [
    "preprocessed = re.split(r'([,.:;?_!\"()\\']|--|\\s)', raw_text)\n",
    "preprocessed =[item.strip() for item in preprocessed if item.strip()]\n",
    "print(preprocessed[:50])\n",
    "print('\\n',len(preprocessed))"
   ]
  },
  {
   "cell_type": "markdown",
   "id": "6bf3885b",
   "metadata": {},
   "source": [
    "# Creating Token IDs"
   ]
  },
  {
   "cell_type": "code",
   "execution_count": 12,
   "id": "09d50311",
   "metadata": {},
   "outputs": [
    {
     "name": "stdout",
     "output_type": "stream",
     "text": [
      "1130\n"
     ]
    }
   ],
   "source": [
    "words = sorted(set(preprocessed))\n",
    "\n",
    "print(len(words))"
   ]
  },
  {
   "cell_type": "code",
   "execution_count": 13,
   "id": "2a23d869",
   "metadata": {},
   "outputs": [],
   "source": [
    "vocab = {token:integer for integer,token in enumerate(words)}"
   ]
  },
  {
   "cell_type": "code",
   "execution_count": 18,
   "id": "de74c140",
   "metadata": {},
   "outputs": [
    {
     "name": "stdout",
     "output_type": "stream",
     "text": [
      " 0: !\n",
      " 1: \"\n",
      " 2: '\n",
      " 3: (\n",
      " 4: )\n",
      " 5: ,\n",
      " 6: --\n",
      " 7: .\n",
      " 8: :\n",
      " 9: ;\n",
      "10: ?\n",
      "11: A\n",
      "12: Ah\n",
      "13: Among\n",
      "14: And\n",
      "15: Are\n",
      "16: Arrt\n",
      "17: As\n",
      "18: At\n",
      "19: Be\n"
     ]
    }
   ],
   "source": [
    "for i, (token, idx) in enumerate(vocab.items()):\n",
    "    if i >= 20:\n",
    "        break\n",
    "    print(f\"{i:2d}: {token}\")\n"
   ]
  },
  {
   "cell_type": "code",
   "execution_count": 83,
   "id": "f665a152",
   "metadata": {},
   "outputs": [],
   "source": [
    "class SimpleTokenizerV1:\n",
    "    def __init__(self, vocab):\n",
    "        self.str_to_int = vocab\n",
    "        self.int_to_str = {i:s for s,i in vocab.items()}\n",
    "    \n",
    "    def encode(self, text):\n",
    "        preprocessed = re.split(r'([,.:;?_!\"()\\']|--|\\s)', text)\n",
    "        preprocessed = [item.strip() for item in preprocessed if item.strip()]\n",
    "        ids = [self.str_to_int[s] for s in preprocessed]\n",
    "        \n",
    "        return ids\n",
    "        \n",
    "    def decode(self, ids):\n",
    "        text = \" \".join([self.int_to_str[i] for i in ids])\n",
    "\n",
    "        # Remove space before punctuation\n",
    "        text = re.sub(r\"\\s+([,.?;:!()\\\"'])\", r\"\\1\", text)\n",
    "\n",
    "        # Remove space only after opening quotes — not closing\n",
    "        text = re.sub(r'(^|[\\s(\\[\"])\\s+', r'\\1', text)\n",
    "\n",
    "        # Fix -- spacing\n",
    "        text = re.sub(r\"\\s+--\\s+\", \"--\", text)\n",
    "\n",
    "        # Fix common contractions\n",
    "        text = re.sub(r\"'\\s+s\\b\", \"'s\", text)\n",
    "        text = re.sub(r\"'\\s+t\\b\", \"'t\", text)\n",
    "        text = re.sub(r\"'\\s+re\\b\", \"'re\", text)\n",
    "        text = re.sub(r\"'\\s+ve\\b\", \"'ve\", text)\n",
    "        text = re.sub(r\"'\\s+d\\b\", \"'d\", text)\n",
    "        text = re.sub(r\"'\\s+ll\\b\", \"'ll\", text)\n",
    "        text = re.sub(r\"'\\s+m\\b\", \"'m\", text)\n",
    "\n",
    "        # Add space after ?\" or !\" if followed by any letter\n",
    "        text = re.sub(r'([,?.!])(\")([A-Za-z])', r'\\1\\2 \\3', text)\n",
    "\n",
    "        return text"
   ]
  },
  {
   "cell_type": "code",
   "execution_count": 86,
   "id": "7cd3f9ad",
   "metadata": {},
   "outputs": [
    {
     "name": "stdout",
     "output_type": "stream",
     "text": [
      "[1, 111, 114, 529, 114, 533, 261, 748, 10, 1, 53, 179, 120, 7]\n"
     ]
    }
   ],
   "source": [
    "tokenizer = SimpleTokenizerV1(vocab)\n",
    "\n",
    "text = \"\"\"\"Why _has_ he chucked painting?\" I asked abruptly.\"\"\"\n",
    "ids = tokenizer.encode(text)\n",
    "print(ids)"
   ]
  },
  {
   "cell_type": "code",
   "execution_count": 87,
   "id": "280f99b5",
   "metadata": {},
   "outputs": [
    {
     "name": "stdout",
     "output_type": "stream",
     "text": [
      "\"Why _ has _ he chucked painting?\" I asked abruptly.\n"
     ]
    }
   ],
   "source": [
    "text = tokenizer.decode(ids)\n",
    "print(text)"
   ]
  },
  {
   "cell_type": "markdown",
   "id": "cf5a81a5",
   "metadata": {},
   "source": [
    "# Adding Special tokens\n"
   ]
  },
  {
   "cell_type": "code",
   "execution_count": 91,
   "id": "2f389f0b",
   "metadata": {},
   "outputs": [
    {
     "name": "stdout",
     "output_type": "stream",
     "text": [
      "1132\n",
      "[('younger', 1127), ('your', 1128), ('yourself', 1129), ('<|endoftext|>', 1130), ('<|unk|>', 1131)]\n"
     ]
    }
   ],
   "source": [
    "all_tokens = sorted(list(set(preprocessed)))\n",
    "all_tokens.extend([\"<|endoftext|>\", \"<|unk|>\"])\n",
    "\n",
    "vocab = {token:integer for integer,token in enumerate(all_tokens)}\n",
    "print(len(vocab))  \n",
    "print(list(vocab.items())[-5:])"
   ]
  },
  {
   "cell_type": "code",
   "execution_count": 114,
   "id": "23a93b32",
   "metadata": {},
   "outputs": [],
   "source": [
    "class SimpleTokenizerV2:\n",
    "    def __init__(self, vocab):\n",
    "        self.str_to_int = vocab\n",
    "        self.int_to_str = {i:s for s,i in vocab.items()}\n",
    "    \n",
    "    def encode(self, text):\n",
    "        preprocessed = re.split(r'([,.:;?_!\"()\\']|--|\\s)', text)\n",
    "        preprocessed = [item.strip() for item in preprocessed if item.strip()]\n",
    "        preprocessed = [item if item in self.str_to_int else \"<|unk|>\" for item in preprocessed]\n",
    "        ids = [self.str_to_int[s] for s in preprocessed]\n",
    "        \n",
    "        return ids\n",
    "        \n",
    "    def decode(self, ids):\n",
    "        text = \" \".join([self.int_to_str[i] for i in ids])\n",
    "\n",
    "        # Remove space before punctuation\n",
    "        text = re.sub(r\"\\s+([,.?;:!()\\\"'])\", r\"\\1\", text)\n",
    "\n",
    "        # Remove space only after opening quotes — not closing\n",
    "        text = re.sub(r'(^|[\\s(\\[\"])\\s+', r'\\1', text)\n",
    "\n",
    "        # Fix -- spacing\n",
    "        text = re.sub(r\"\\s+--\\s+\", \"--\", text)\n",
    "\n",
    "        # Fix common contractions\n",
    "        text = re.sub(r\"'\\s+s\\b\", \"'s\", text)\n",
    "        text = re.sub(r\"'\\s+t\\b\", \"'t\", text)\n",
    "        text = re.sub(r\"'\\s+re\\b\", \"'re\", text)\n",
    "        text = re.sub(r\"'\\s+ve\\b\", \"'ve\", text)\n",
    "        text = re.sub(r\"'\\s+d\\b\", \"'d\", text)\n",
    "        text = re.sub(r\"'\\s+ll\\b\", \"'ll\", text)\n",
    "        text = re.sub(r\"'\\s+m\\b\", \"'m\", text)\n",
    "\n",
    "        # Add space after ?\" or ,\" etc. if followed by a word (any letter)\n",
    "        text = re.sub(r'([,?.!])(\")([A-Za-z])', r'\\1\\2 \\3', text)\n",
    "\n",
    "        return text"
   ]
  },
  {
   "cell_type": "code",
   "execution_count": 115,
   "id": "cca049b6",
   "metadata": {},
   "outputs": [
    {
     "name": "stdout",
     "output_type": "stream",
     "text": [
      "Hello, do you like tea? <|endoftext|> She raised her eyebrows with a hint of good-humoured surprise.\n"
     ]
    }
   ],
   "source": [
    "tokenizer = SimpleTokenizerV2(vocab)\n",
    "\n",
    "text1 = \"Hello, do you like tea?\"\n",
    "text2 = \"She raised her eyebrows with a hint of good-humoured surprise.\"\n",
    "\n",
    "text = \" <|endoftext|> \".join((text1,text2))\n",
    "print(text)"
   ]
  },
  {
   "cell_type": "code",
   "execution_count": 116,
   "id": "13b7981d",
   "metadata": {},
   "outputs": [
    {
     "data": {
      "text/plain": [
       "[1131,\n",
       " 5,\n",
       " 355,\n",
       " 1126,\n",
       " 628,\n",
       " 975,\n",
       " 10,\n",
       " 1130,\n",
       " 88,\n",
       " 816,\n",
       " 539,\n",
       " 416,\n",
       " 1108,\n",
       " 115,\n",
       " 548,\n",
       " 722,\n",
       " 502,\n",
       " 961,\n",
       " 7]"
      ]
     },
     "execution_count": 116,
     "metadata": {},
     "output_type": "execute_result"
    }
   ],
   "source": [
    "tokenizer.encode(text)"
   ]
  },
  {
   "cell_type": "code",
   "execution_count": 117,
   "id": "f1f09e16",
   "metadata": {},
   "outputs": [
    {
     "data": {
      "text/plain": [
       "'<|unk|>, do you like tea? <|endoftext|> She raised her eyebrows with a hint of good-humoured surprise.'"
      ]
     },
     "execution_count": 117,
     "metadata": {},
     "output_type": "execute_result"
    }
   ],
   "source": [
    "tokenizer.decode(tokenizer.encode(text))"
   ]
  },
  {
   "cell_type": "markdown",
   "id": "a59444d7",
   "metadata": {},
   "source": [
    "\"Hello\" was not vocab but SimpleTokenizerV2 handles it now"
   ]
  },
  {
   "cell_type": "markdown",
   "id": "b78b5a85",
   "metadata": {},
   "source": [
    "# Byte pair Encoding \n"
   ]
  },
  {
   "cell_type": "markdown",
   "id": "f1be41d8",
   "metadata": {},
   "source": [
    "With chatgpt tiktoken"
   ]
  },
  {
   "cell_type": "code",
   "execution_count": 118,
   "id": "e671455e",
   "metadata": {},
   "outputs": [
    {
     "name": "stdout",
     "output_type": "stream",
     "text": [
      "Requirement already satisfied: tiktoken in /Users/junaeidshoaib/anaconda3/lib/python3.11/site-packages (0.9.0)\n",
      "Requirement already satisfied: regex>=2022.1.18 in /Users/junaeidshoaib/anaconda3/lib/python3.11/site-packages (from tiktoken) (2022.7.9)\n",
      "Requirement already satisfied: requests>=2.26.0 in /Users/junaeidshoaib/anaconda3/lib/python3.11/site-packages (from tiktoken) (2.32.4)\n",
      "Requirement already satisfied: charset_normalizer<4,>=2 in /Users/junaeidshoaib/anaconda3/lib/python3.11/site-packages (from requests>=2.26.0->tiktoken) (2.0.4)\n",
      "Requirement already satisfied: idna<4,>=2.5 in /Users/junaeidshoaib/anaconda3/lib/python3.11/site-packages (from requests>=2.26.0->tiktoken) (3.4)\n",
      "Requirement already satisfied: urllib3<3,>=1.21.1 in /Users/junaeidshoaib/anaconda3/lib/python3.11/site-packages (from requests>=2.26.0->tiktoken) (1.26.16)\n",
      "Requirement already satisfied: certifi>=2017.4.17 in /Users/junaeidshoaib/anaconda3/lib/python3.11/site-packages (from requests>=2.26.0->tiktoken) (2024.7.4)\n"
     ]
    }
   ],
   "source": [
    "! pip3 install tiktoken"
   ]
  },
  {
   "cell_type": "code",
   "execution_count": 123,
   "id": "8afcde4c",
   "metadata": {},
   "outputs": [
    {
     "name": "stdout",
     "output_type": "stream",
     "text": [
      "tiktoken version: 0.9.0\n"
     ]
    }
   ],
   "source": [
    "import importlib\n",
    "import tiktoken\n",
    "\n",
    "print(\"tiktoken version:\", importlib.metadata.version(\"tiktoken\"))\n",
    "tokenizer = tiktoken.get_encoding(\"gpt2\")"
   ]
  },
  {
   "cell_type": "code",
   "execution_count": 124,
   "id": "bcb58bdc",
   "metadata": {},
   "outputs": [
    {
     "name": "stdout",
     "output_type": "stream",
     "text": [
      "[15496, 11, 466, 345, 588, 8887, 30, 220, 50256, 554, 262, 4252, 18250, 8812, 2114, 1659, 617, 34680, 27271, 13]\n"
     ]
    }
   ],
   "source": [
    "text = (\"Hello, do you like tea? <|endoftext|> In the sunlit terraces\"\n",
    "     \"of someunknownPlace.\")\n",
    "\n",
    "integers = tokenizer.encode(text, allowed_special={\"<|endoftext|>\"})\n",
    "\n",
    "print(integers)"
   ]
  },
  {
   "cell_type": "code",
   "execution_count": 126,
   "id": "12669fef",
   "metadata": {},
   "outputs": [
    {
     "name": "stdout",
     "output_type": "stream",
     "text": [
      "Hello, do you like tea? <|endoftext|> In the sunlit terracesof someunknownPlace.\n"
     ]
    }
   ],
   "source": [
    "text = tokenizer.decode(integers)\n",
    "\n",
    "print(text)"
   ]
  },
  {
   "cell_type": "markdown",
   "id": "0ffa7e49",
   "metadata": {},
   "source": [
    "# input-target pair"
   ]
  },
  {
   "cell_type": "code",
   "execution_count": 127,
   "id": "003668a7",
   "metadata": {},
   "outputs": [
    {
     "name": "stdout",
     "output_type": "stream",
     "text": [
      "5145\n"
     ]
    }
   ],
   "source": [
    "encoded_text = tokenizer.encode(raw_text) #byte pair encoding\n",
    "print(len(encoded_text))"
   ]
  },
  {
   "cell_type": "code",
   "execution_count": 128,
   "id": "a3329eed",
   "metadata": {},
   "outputs": [
    {
     "name": "stdout",
     "output_type": "stream",
     "text": [
      "5095\n"
     ]
    }
   ],
   "source": [
    "encoded_sample = encoded_text[50:]\n",
    "print(len(encoded_sample))"
   ]
  },
  {
   "cell_type": "code",
   "execution_count": 132,
   "id": "9985e857",
   "metadata": {},
   "outputs": [
    {
     "name": "stdout",
     "output_type": "stream",
     "text": [
      "x: [290, 4920, 2241, 287]\n",
      "y:      [4920, 2241, 287, 257]\n"
     ]
    }
   ],
   "source": [
    "context_size = 4\n",
    "\n",
    "x = encoded_sample[:context_size]\n",
    "y = encoded_sample[1:context_size+1]\n",
    "print(f'x:',x)\n",
    "print(f'y:     ',y)"
   ]
  },
  {
   "cell_type": "code",
   "execution_count": 139,
   "id": "400c513e",
   "metadata": {},
   "outputs": [
    {
     "name": "stdout",
     "output_type": "stream",
     "text": [
      " and -->  established\n",
      " and established -->  himself\n",
      " and established himself -->  in\n",
      " and established himself in -->  a\n"
     ]
    }
   ],
   "source": [
    "for i in range(1, context_size+1):\n",
    "    context = encoded_sample[:i]\n",
    "    desired = encoded_sample[i]\n",
    "    print(tokenizer.decode(context), \"-->\",tokenizer.decode([desired]))"
   ]
  },
  {
   "cell_type": "markdown",
   "id": "cd579c3f",
   "metadata": {},
   "source": [
    "# Data loader\n"
   ]
  },
  {
   "cell_type": "code",
   "execution_count": 140,
   "id": "38a9e20d",
   "metadata": {},
   "outputs": [],
   "source": [
    "from torch.utils.data import Dataset, DataLoader\n",
    "\n",
    "\n",
    "class GPTDatasetV1(Dataset):\n",
    "    def __init__(self, txt, tokenizer, max_length, stride):\n",
    "        self.input_ids = []\n",
    "        self.target_ids = []\n",
    "\n",
    "        # Tokenize the entire text\n",
    "        token_ids = tokenizer.encode(txt, allowed_special={\"<|endoftext|>\"})\n",
    "\n",
    "        # Use a sliding window to chunk the book into overlapping sequences of max_length\n",
    "        for i in range(0, len(token_ids) - max_length, stride):\n",
    "            input_chunk = token_ids[i:i + max_length]\n",
    "            target_chunk = token_ids[i + 1: i + max_length + 1]\n",
    "            self.input_ids.append(torch.tensor(input_chunk))\n",
    "            self.target_ids.append(torch.tensor(target_chunk))\n",
    "\n",
    "    def __len__(self):\n",
    "        return len(self.input_ids)\n",
    "\n",
    "    def __getitem__(self, idx):\n",
    "        return self.input_ids[idx], self.target_ids[idx]"
   ]
  },
  {
   "cell_type": "code",
   "execution_count": 141,
   "id": "b6daf3fe",
   "metadata": {},
   "outputs": [],
   "source": [
    "def create_dataloader_v1(txt, batch_size=4, max_length=256, \n",
    "                         stride=128, shuffle=True, drop_last=True,\n",
    "                         num_workers=0):\n",
    "\n",
    "    # Initialize the tokenizer\n",
    "    tokenizer = tiktoken.get_encoding(\"gpt2\")\n",
    "\n",
    "    # Create dataset\n",
    "    dataset = GPTDatasetV1(txt, tokenizer, max_length, stride)\n",
    "\n",
    "    # Create dataloader\n",
    "    dataloader = DataLoader(\n",
    "        dataset,\n",
    "        batch_size=batch_size,\n",
    "        shuffle=shuffle,\n",
    "        drop_last=drop_last,\n",
    "        num_workers=num_workers\n",
    "    )\n",
    "\n",
    "    return dataloader"
   ]
  },
  {
   "cell_type": "code",
   "execution_count": 142,
   "id": "ed5d3960",
   "metadata": {},
   "outputs": [
    {
     "name": "stdout",
     "output_type": "stream",
     "text": [
      "PyTorch version: 2.6.0\n",
      "[tensor([[  40,  367, 2885, 1464]]), tensor([[ 367, 2885, 1464, 1807]])]\n"
     ]
    }
   ],
   "source": [
    "import torch\n",
    "print(\"PyTorch version:\", torch.__version__)\n",
    "dataloader = create_dataloader_v1(raw_text, batch_size=1, max_length=4, stride=1, shuffle=False)\n",
    "\n",
    "data_iter = iter(dataloader)\n",
    "first_batch = next(data_iter)\n",
    "print(first_batch)"
   ]
  },
  {
   "cell_type": "code",
   "execution_count": 143,
   "id": "2d5376d9",
   "metadata": {},
   "outputs": [
    {
     "name": "stdout",
     "output_type": "stream",
     "text": [
      "[tensor([[ 367, 2885, 1464, 1807]]), tensor([[2885, 1464, 1807, 3619]])]\n"
     ]
    }
   ],
   "source": [
    "second_batch = next(data_iter)\n",
    "print(second_batch)"
   ]
  },
  {
   "cell_type": "code",
   "execution_count": 144,
   "id": "edc96374",
   "metadata": {},
   "outputs": [
    {
     "name": "stdout",
     "output_type": "stream",
     "text": [
      "Inputs:\n",
      " tensor([[   40,   367,  2885,  1464],\n",
      "        [ 1807,  3619,   402,   271],\n",
      "        [10899,  2138,   257,  7026],\n",
      "        [15632,   438,  2016,   257],\n",
      "        [  922,  5891,  1576,   438],\n",
      "        [  568,   340,   373,   645],\n",
      "        [ 1049,  5975,   284,   502],\n",
      "        [  284,  3285,   326,    11]])\n",
      "\n",
      "Targets:\n",
      " tensor([[  367,  2885,  1464,  1807],\n",
      "        [ 3619,   402,   271, 10899],\n",
      "        [ 2138,   257,  7026, 15632],\n",
      "        [  438,  2016,   257,   922],\n",
      "        [ 5891,  1576,   438,   568],\n",
      "        [  340,   373,   645,  1049],\n",
      "        [ 5975,   284,   502,   284],\n",
      "        [ 3285,   326,    11,   287]])\n"
     ]
    }
   ],
   "source": [
    "dataloader = create_dataloader_v1(raw_text, batch_size=8, max_length=4, stride=4, shuffle=False)\n",
    "\n",
    "data_iter = iter(dataloader)\n",
    "inputs, targets = next(data_iter)\n",
    "print(\"Inputs:\\n\", inputs)\n",
    "print(\"\\nTargets:\\n\", targets)"
   ]
  },
  {
   "cell_type": "code",
   "execution_count": null,
   "id": "84b71d1d",
   "metadata": {},
   "outputs": [],
   "source": []
  }
 ],
 "metadata": {
  "kernelspec": {
   "display_name": "Python 3 (ipykernel)",
   "language": "python",
   "name": "python3"
  },
  "language_info": {
   "codemirror_mode": {
    "name": "ipython",
    "version": 3
   },
   "file_extension": ".py",
   "mimetype": "text/x-python",
   "name": "python",
   "nbconvert_exporter": "python",
   "pygments_lexer": "ipython3",
   "version": "3.11.5"
  }
 },
 "nbformat": 4,
 "nbformat_minor": 5
}
